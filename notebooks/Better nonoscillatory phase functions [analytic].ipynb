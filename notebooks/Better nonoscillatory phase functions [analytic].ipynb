{
 "cells": [
  {
   "cell_type": "code",
   "execution_count": 1,
   "id": "be9bf691",
   "metadata": {},
   "outputs": [],
   "source": [
    "from sympy import *\n",
    "import numpy as np\n",
    "from scipy.special import airy\n",
    "from scipy.integrate import quad\n",
    "import matplotlib.pyplot as plt\n",
    "from collections.abc import Iterable\n",
    "import ipywidgets as widgets"
   ]
  },
  {
   "cell_type": "code",
   "execution_count": 2,
   "id": "84c728cb",
   "metadata": {},
   "outputs": [],
   "source": [
    "t = symbols('t', positive=True)\n",
    "\n",
    "w = Function('w')\n",
    "\n",
    "def dsum_Barnett(n, t):\n",
    "    \"\"\"\n",
    "    Sum of the first (n+1) terms in the Barnett series, which approximates \n",
    "    u(t) following the sequence of substitutions below:\n",
    "    x'' + w(t)^2x = 0,\n",
    "    let x = e^z,\n",
    "    let z' = u.\n",
    "    \"\"\"\n",
    "    if n == 0:\n",
    "        return 1j*w(t)\n",
    "    else:\n",
    "        return Rational(1,2)*(-diff(dsum_Barnett(Integer(n-1), t), t)/dsum_Barnett(Integer(n-1), t) +\\\n",
    "                    dsum_Barnett(Integer(n-1), t) - w(t)**Integer(2)/dsum_Barnett(Integer(n-1), t))\n",
    "    \n",
    "def dS_WKB(n, t):\n",
    "    \"\"\"\n",
    "    Derivative of the (n+1)th term in the WKB series. \n",
    "    \"\"\"\n",
    "    if n == 0:\n",
    "        return 1j*w(t)\n",
    "    else:\n",
    "        sums = 0.0\n",
    "        for i in range(1, n):\n",
    "            sums += dS_WKB(i,t)*dS_WKB(n-i, t)\n",
    "        return -1/(2*dS_WKB(0, t))*(diff(dS_WKB(n-1, t), t) + sums)\n",
    "    \n",
    "def sum_dS_WKB(n, t):\n",
    "    \"\"\"\n",
    "    Sum of the derivatives of the first (n+1) terms in the WKB series.\n",
    "    \"\"\"\n",
    "    sums = 0.0\n",
    "    for i in range(n+1):\n",
    "        sums += dS_WKB(i, t)\n",
    "    return sums\n",
    "\n",
    "def eval_Barnett(n, ts, x0, dx0):\n",
    "    \"\"\"\n",
    "    Evaluates the Barnett series approximation to x(t) at a sequence of\n",
    "    points ts, starting from initial condititions x(t[0]) = x0,\n",
    "    x'(t[0]) = dx0.\n",
    "    \"\"\"\n",
    "    t0 = ts[0]\n",
    "    dBarnett = dsum_Barnett(n, t)\n",
    "    dBarnett_re = re(dBarnett)\n",
    "    dBarnett_im = im(dBarnett)\n",
    "    #Barnett = integrate(dBarnett, t)\n",
    "    #Barnett_lambda = lambdify(t, Barnett, 'numpy')\n",
    "    dBarnett_lambda = lambdify(t, dBarnett, 'numpy')\n",
    "    dBarnett_lambda_re = lambdify(t, dBarnett_re, 'numpy')\n",
    "    dBarnett_lambda_im = lambdify(t, dBarnett_im, 'numpy')\n",
    "    Barnett_lambda = lambda us: np.array([quad(dBarnett_lambda_re, t0, u)[0] +\\\n",
    "                                          1j*quad(dBarnett_lambda_im, t0, u)[0] for u in us])\\\n",
    "                                          if isinstance(us, Iterable) else quad(dBarnett_lambda_re, t0, us)[0] +\\\n",
    "                                          1j*quad(dBarnett_lambda_im, t0, us)[0]\n",
    "                                    \n",
    "    fp = np.exp(Barnett_lambda(ts) - Barnett_lambda(t0))\n",
    "    fm = np.conj(fp)\n",
    "    dfp0 =  dBarnett_lambda(t0)\n",
    "    dfm0 = np.conj(dfp0)\n",
    "    Ap = (dx0 - x0*dfm0)/(dfp0 - dfm0)\n",
    "    Am = (dx0 - x0*dfp0)/(dfm0 - dfp0)\n",
    "    result = Ap*fp + Am*fm\n",
    "    return result\n",
    "    \n",
    "def eval_WKB(n, ts, x0, dx0):\n",
    "    \"\"\"\n",
    "    Evaluates the WKB approximation to x(t) at a sequence of points ts,\n",
    "    starting from initial condititions x(t[0]) = x0, x'(t[0]) = dx0.\n",
    "    \"\"\"\n",
    "    t0 = ts[0]\n",
    "    dWKB = sum_dS_WKB(n, t)\n",
    "    WKB = integrate(dWKB, t)\n",
    "    WKB_lambda = lambdify(t, WKB, 'numpy')\n",
    "    dWKB_lambda = lambdify(t, dWKB, 'numpy')\n",
    "    fp = np.exp(WKB_lambda(ts) - WKB_lambda(t0))\n",
    "    fm = np.conj(fp)\n",
    "    dfp0 =  dWKB_lambda(t0)\n",
    "    dfm0 = np.conj(dfp0)\n",
    "    Ap = (dx0 - x0*dfm0)/(dfp0 - dfm0)\n",
    "    Am = (dx0 - x0*dfp0)/(dfm0 - dfp0)\n",
    "    result = Ap*fp + Am*fm\n",
    "    return result    "
   ]
  },
  {
   "cell_type": "code",
   "execution_count": 9,
   "id": "1abc829f",
   "metadata": {},
   "outputs": [
    {
     "data": {
      "text/latex": [
       "$\\displaystyle 1.0 i w{\\left(t \\right)}$"
      ],
      "text/plain": [
       "1.0*I*w(t)"
      ]
     },
     "execution_count": 9,
     "metadata": {},
     "output_type": "execute_result"
    }
   ],
   "source": [
    "dsum_Barnett(0, t)"
   ]
  },
  {
   "cell_type": "code",
   "execution_count": 6,
   "id": "d7552532",
   "metadata": {},
   "outputs": [
    {
     "data": {
      "text/latex": [
       "$\\displaystyle i w{\\left(t \\right)} - \\frac{0.5 \\frac{d}{d t} w{\\left(t \\right)}}{w{\\left(t \\right)}}$"
      ],
      "text/plain": [
       "I*w(t) - 0.5*Derivative(w(t), t)/w(t)"
      ]
     },
     "execution_count": 6,
     "metadata": {},
     "output_type": "execute_result"
    }
   ],
   "source": [
    "dsum_Barnett(1, t)"
   ]
  },
  {
   "cell_type": "code",
   "execution_count": 16,
   "id": "2bbeab0a",
   "metadata": {},
   "outputs": [
    {
     "data": {
      "text/latex": [
       "$\\displaystyle \\frac{2.0 w^{4}{\\left(t \\right)} + 2.0 i w^{2}{\\left(t \\right)} \\frac{d}{d t} w{\\left(t \\right)} - 0.5 w{\\left(t \\right)} \\frac{d^{2}}{d t^{2}} w{\\left(t \\right)} + 0.25 \\left(\\frac{d}{d t} w{\\left(t \\right)}\\right)^{2}}{\\left(- 2.0 i w^{2}{\\left(t \\right)} + 1.0 \\frac{d}{d t} w{\\left(t \\right)}\\right) w{\\left(t \\right)}}$"
      ],
      "text/plain": [
       "(2.0*w(t)**4 + 2.0*I*w(t)**2*Derivative(w(t), t) - 0.5*w(t)*Derivative(w(t), (t, 2)) + 0.25*Derivative(w(t), t)**2)/((-2.0*I*w(t)**2 + 1.0*Derivative(w(t), t))*w(t))"
      ]
     },
     "execution_count": 16,
     "metadata": {},
     "output_type": "execute_result"
    }
   ],
   "source": [
    "Barnett2 = simplify(dsum_Barnett(2, t))\n",
    "Barnett2"
   ]
  },
  {
   "cell_type": "code",
   "execution_count": 17,
   "id": "f0109151",
   "metadata": {},
   "outputs": [
    {
     "data": {
      "text/latex": [
       "$\\displaystyle \\frac{i \\left(- 0.25 w{\\left(t \\right)} \\frac{d^{2}}{d t^{2}} w{\\left(t \\right)} + 0.375 \\left(\\frac{d}{d t} w{\\left(t \\right)}\\right)^{2}\\right) + 1.0 i w^{4}{\\left(t \\right)} - 0.5 w^{2}{\\left(t \\right)} \\frac{d}{d t} w{\\left(t \\right)}}{w^{3}{\\left(t \\right)}}$"
      ],
      "text/plain": [
       "(I*(-0.25*w(t)*Derivative(w(t), (t, 2)) + 0.375*Derivative(w(t), t)**2) + 1.0*I*w(t)**4 - 0.5*w(t)**2*Derivative(w(t), t))/w(t)**3"
      ]
     },
     "execution_count": 17,
     "metadata": {},
     "output_type": "execute_result"
    }
   ],
   "source": [
    "WKB2 = simplify(sum_dS_WKB(2, t))\n",
    "WKB2"
   ]
  },
  {
   "cell_type": "code",
   "execution_count": 15,
   "id": "18dde1a9",
   "metadata": {},
   "outputs": [
    {
     "data": {
      "text/latex": [
       "$\\displaystyle \\frac{i \\left(0.25 w{\\left(t \\right)} \\frac{d^{2}}{d t^{2}} w{\\left(t \\right)} - 0.375 \\left(\\frac{d}{d t} w{\\left(t \\right)}\\right)^{2}\\right) \\frac{d}{d t} w{\\left(t \\right)}}{\\left(- 2.0 i w^{2}{\\left(t \\right)} + 1.0 \\frac{d}{d t} w{\\left(t \\right)}\\right) w^{3}{\\left(t \\right)}}$"
      ],
      "text/plain": [
       "I*(0.25*w(t)*Derivative(w(t), (t, 2)) - 0.375*Derivative(w(t), t)**2)*Derivative(w(t), t)/((-2.0*I*w(t)**2 + 1.0*Derivative(w(t), t))*w(t)**3)"
      ]
     },
     "execution_count": 15,
     "metadata": {},
     "output_type": "execute_result"
    }
   ],
   "source": [
    "simplify(Barnett2 - WKB2)"
   ]
  },
  {
   "cell_type": "code",
   "execution_count": 18,
   "id": "64d28fb3",
   "metadata": {},
   "outputs": [
    {
     "data": {
      "text/latex": [
       "$\\displaystyle \\frac{- 128.0 w^{8}{\\left(t \\right)} - 256.0 i w^{6}{\\left(t \\right)} \\frac{d}{d t} w{\\left(t \\right)} + 64.0 w^{5}{\\left(t \\right)} \\frac{d^{2}}{d t^{2}} w{\\left(t \\right)} + 96.0 w^{4}{\\left(t \\right)} \\left(\\frac{d}{d t} w{\\left(t \\right)}\\right)^{2} + 16.0 i w^{4}{\\left(t \\right)} \\frac{d^{3}}{d t^{3}} w{\\left(t \\right)} - 16.0 i w^{3}{\\left(t \\right)} \\frac{d}{d t} w{\\left(t \\right)} \\frac{d^{2}}{d t^{2}} w{\\left(t \\right)} + 40.0 i w^{2}{\\left(t \\right)} \\left(\\frac{d}{d t} w{\\left(t \\right)}\\right)^{3} - 8.0 w^{2}{\\left(t \\right)} \\frac{d}{d t} w{\\left(t \\right)} \\frac{d^{3}}{d t^{3}} w{\\left(t \\right)} + 4.0 w^{2}{\\left(t \\right)} \\left(\\frac{d^{2}}{d t^{2}} w{\\left(t \\right)}\\right)^{2} + 8.0 w{\\left(t \\right)} \\left(\\frac{d}{d t} w{\\left(t \\right)}\\right)^{2} \\frac{d^{2}}{d t^{2}} w{\\left(t \\right)} - 5.0 \\left(\\frac{d}{d t} w{\\left(t \\right)}\\right)^{4}}{\\left(128.0 i w^{6}{\\left(t \\right)} - 192.0 w^{4}{\\left(t \\right)} \\frac{d}{d t} w{\\left(t \\right)} - 32.0 i w^{3}{\\left(t \\right)} \\frac{d^{2}}{d t^{2}} w{\\left(t \\right)} - 48.0 i w^{2}{\\left(t \\right)} \\left(\\frac{d}{d t} w{\\left(t \\right)}\\right)^{2} + 16.0 w{\\left(t \\right)} \\frac{d}{d t} w{\\left(t \\right)} \\frac{d^{2}}{d t^{2}} w{\\left(t \\right)} - 8.0 \\left(\\frac{d}{d t} w{\\left(t \\right)}\\right)^{3}\\right) w{\\left(t \\right)}}$"
      ],
      "text/plain": [
       "(-128.0*w(t)**8 - 256.0*I*w(t)**6*Derivative(w(t), t) + 64.0*w(t)**5*Derivative(w(t), (t, 2)) + 96.0*w(t)**4*Derivative(w(t), t)**2 + 16.0*I*w(t)**4*Derivative(w(t), (t, 3)) - 16.0*I*w(t)**3*Derivative(w(t), t)*Derivative(w(t), (t, 2)) + 40.0*I*w(t)**2*Derivative(w(t), t)**3 - 8.0*w(t)**2*Derivative(w(t), t)*Derivative(w(t), (t, 3)) + 4.0*w(t)**2*Derivative(w(t), (t, 2))**2 + 8.0*w(t)*Derivative(w(t), t)**2*Derivative(w(t), (t, 2)) - 5.0*Derivative(w(t), t)**4)/((128.0*I*w(t)**6 - 192.0*w(t)**4*Derivative(w(t), t) - 32.0*I*w(t)**3*Derivative(w(t), (t, 2)) - 48.0*I*w(t)**2*Derivative(w(t), t)**2 + 16.0*w(t)*Derivative(w(t), t)*Derivative(w(t), (t, 2)) - 8.0*Derivative(w(t), t)**3)*w(t))"
      ]
     },
     "execution_count": 18,
     "metadata": {},
     "output_type": "execute_result"
    }
   ],
   "source": [
    "Barnett3 = simplify(dsum_Barnett(3, t))\n",
    "Barnett3"
   ]
  },
  {
   "cell_type": "code",
   "execution_count": 19,
   "id": "22738aa1",
   "metadata": {},
   "outputs": [
    {
     "data": {
      "text/latex": [
       "$\\displaystyle 1.0 i w{\\left(t \\right)} - \\frac{0.5 \\frac{d}{d t} w{\\left(t \\right)}}{w{\\left(t \\right)}} - \\frac{0.25 i \\frac{d^{2}}{d t^{2}} w{\\left(t \\right)}}{w^{2}{\\left(t \\right)}} + \\frac{0.375 i \\left(\\frac{d}{d t} w{\\left(t \\right)}\\right)^{2}}{w^{3}{\\left(t \\right)}} + \\frac{0.125 \\frac{d^{3}}{d t^{3}} w{\\left(t \\right)}}{w^{3}{\\left(t \\right)}} - \\frac{0.75 \\frac{d}{d t} w{\\left(t \\right)} \\frac{d^{2}}{d t^{2}} w{\\left(t \\right)}}{w^{4}{\\left(t \\right)}} + \\frac{0.75 \\left(\\frac{d}{d t} w{\\left(t \\right)}\\right)^{3}}{w^{5}{\\left(t \\right)}}$"
      ],
      "text/plain": [
       "1.0*I*w(t) - 0.5*Derivative(w(t), t)/w(t) - 0.25*I*Derivative(w(t), (t, 2))/w(t)**2 + 0.375*I*Derivative(w(t), t)**2/w(t)**3 + 0.125*Derivative(w(t), (t, 3))/w(t)**3 - 0.75*Derivative(w(t), t)*Derivative(w(t), (t, 2))/w(t)**4 + 0.75*Derivative(w(t), t)**3/w(t)**5"
      ]
     },
     "execution_count": 19,
     "metadata": {},
     "output_type": "execute_result"
    }
   ],
   "source": [
    "WKB3 = simplify(sum_dS_WKB(3, t))\n",
    "WKB3"
   ]
  },
  {
   "cell_type": "code",
   "execution_count": 20,
   "id": "e1c20016",
   "metadata": {},
   "outputs": [
    {
     "data": {
      "text/latex": [
       "$\\displaystyle \\frac{16.0 w^{6}{\\left(t \\right)} \\frac{d}{d t} w{\\left(t \\right)} \\frac{d^{3}}{d t^{3}} w{\\left(t \\right)} + 12.0 w^{6}{\\left(t \\right)} \\left(\\frac{d^{2}}{d t^{2}} w{\\left(t \\right)}\\right)^{2} - 128.0 w^{5}{\\left(t \\right)} \\left(\\frac{d}{d t} w{\\left(t \\right)}\\right)^{2} \\frac{d^{2}}{d t^{2}} w{\\left(t \\right)} + 4.0 i w^{5}{\\left(t \\right)} \\frac{d^{2}}{d t^{2}} w{\\left(t \\right)} \\frac{d^{3}}{d t^{3}} w{\\left(t \\right)} + 117.0 w^{4}{\\left(t \\right)} \\left(\\frac{d}{d t} w{\\left(t \\right)}\\right)^{4} + 6.0 i w^{4}{\\left(t \\right)} \\left(\\frac{d}{d t} w{\\left(t \\right)}\\right)^{2} \\frac{d^{3}}{d t^{3}} w{\\left(t \\right)} - 20.0 i w^{4}{\\left(t \\right)} \\frac{d}{d t} w{\\left(t \\right)} \\left(\\frac{d^{2}}{d t^{2}} w{\\left(t \\right)}\\right)^{2} - 20.0 i w^{3}{\\left(t \\right)} \\left(\\frac{d}{d t} w{\\left(t \\right)}\\right)^{3} \\frac{d^{2}}{d t^{2}} w{\\left(t \\right)} - 2.0 w^{3}{\\left(t \\right)} \\frac{d}{d t} w{\\left(t \\right)} \\frac{d^{2}}{d t^{2}} w{\\left(t \\right)} \\frac{d^{3}}{d t^{3}} w{\\left(t \\right)} + 39.0 i w^{2}{\\left(t \\right)} \\left(\\frac{d}{d t} w{\\left(t \\right)}\\right)^{5} + 1.0 w^{2}{\\left(t \\right)} \\left(\\frac{d}{d t} w{\\left(t \\right)}\\right)^{3} \\frac{d^{3}}{d t^{3}} w{\\left(t \\right)} + 12.0 w^{2}{\\left(t \\right)} \\left(\\frac{d}{d t} w{\\left(t \\right)}\\right)^{2} \\left(\\frac{d^{2}}{d t^{2}} w{\\left(t \\right)}\\right)^{2} - 18.0 w{\\left(t \\right)} \\left(\\frac{d}{d t} w{\\left(t \\right)}\\right)^{4} \\frac{d^{2}}{d t^{2}} w{\\left(t \\right)} + 6.0 \\left(\\frac{d}{d t} w{\\left(t \\right)}\\right)^{6}}{\\left(128.0 i w^{6}{\\left(t \\right)} - 192.0 w^{4}{\\left(t \\right)} \\frac{d}{d t} w{\\left(t \\right)} - 32.0 i w^{3}{\\left(t \\right)} \\frac{d^{2}}{d t^{2}} w{\\left(t \\right)} - 48.0 i w^{2}{\\left(t \\right)} \\left(\\frac{d}{d t} w{\\left(t \\right)}\\right)^{2} + 16.0 w{\\left(t \\right)} \\frac{d}{d t} w{\\left(t \\right)} \\frac{d^{2}}{d t^{2}} w{\\left(t \\right)} - 8.0 \\left(\\frac{d}{d t} w{\\left(t \\right)}\\right)^{3}\\right) w^{5}{\\left(t \\right)}}$"
      ],
      "text/plain": [
       "(16.0*w(t)**6*Derivative(w(t), t)*Derivative(w(t), (t, 3)) + 12.0*w(t)**6*Derivative(w(t), (t, 2))**2 - 128.0*w(t)**5*Derivative(w(t), t)**2*Derivative(w(t), (t, 2)) + 4.0*I*w(t)**5*Derivative(w(t), (t, 2))*Derivative(w(t), (t, 3)) + 117.0*w(t)**4*Derivative(w(t), t)**4 + 6.0*I*w(t)**4*Derivative(w(t), t)**2*Derivative(w(t), (t, 3)) - 20.0*I*w(t)**4*Derivative(w(t), t)*Derivative(w(t), (t, 2))**2 - 20.0*I*w(t)**3*Derivative(w(t), t)**3*Derivative(w(t), (t, 2)) - 2.0*w(t)**3*Derivative(w(t), t)*Derivative(w(t), (t, 2))*Derivative(w(t), (t, 3)) + 39.0*I*w(t)**2*Derivative(w(t), t)**5 + 1.0*w(t)**2*Derivative(w(t), t)**3*Derivative(w(t), (t, 3)) + 12.0*w(t)**2*Derivative(w(t), t)**2*Derivative(w(t), (t, 2))**2 - 18.0*w(t)*Derivative(w(t), t)**4*Derivative(w(t), (t, 2)) + 6.0*Derivative(w(t), t)**6)/((128.0*I*w(t)**6 - 192.0*w(t)**4*Derivative(w(t), t) - 32.0*I*w(t)**3*Derivative(w(t), (t, 2)) - 48.0*I*w(t)**2*Derivative(w(t), t)**2 + 16.0*w(t)*Derivative(w(t), t)*Derivative(w(t), (t, 2)) - 8.0*Derivative(w(t), t)**3)*w(t)**5)"
      ]
     },
     "execution_count": 20,
     "metadata": {},
     "output_type": "execute_result"
    }
   ],
   "source": [
    "simplify(Barnett3 - WKB3)"
   ]
  },
  {
   "cell_type": "code",
   "execution_count": null,
   "id": "02defef8",
   "metadata": {},
   "outputs": [],
   "source": []
  }
 ],
 "metadata": {
  "kernelspec": {
   "display_name": "bphasefunenv",
   "language": "python",
   "name": "bphasefunenv"
  },
  "language_info": {
   "codemirror_mode": {
    "name": "ipython",
    "version": 3
   },
   "file_extension": ".py",
   "mimetype": "text/x-python",
   "name": "python",
   "nbconvert_exporter": "python",
   "pygments_lexer": "ipython3",
   "version": "3.8.12"
  }
 },
 "nbformat": 4,
 "nbformat_minor": 5
}
